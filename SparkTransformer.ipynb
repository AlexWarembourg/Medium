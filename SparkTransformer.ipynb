{
 "cells": [
  {
   "cell_type": "code",
   "execution_count": 1,
   "metadata": {},
   "outputs": [
    {
     "data": {
      "text/plain": [
       "DataFrame[key: string, value: string]"
      ]
     },
     "execution_count": 1,
     "metadata": {},
     "output_type": "execute_result"
    }
   ],
   "source": [
    "# package python\n",
    "from pprint import pprint \n",
    "import json\n",
    "from datetime import date\n",
    "from datetime import datetime\n",
    "import math\n",
    "\n",
    "import pyspark # only run after findspark.init()\n",
    "from pyspark.sql import SparkSession\n",
    "from pyspark import SparkConf, SparkContext\n",
    "from pyspark.sql import SparkSession, SQLContext\n",
    "from pyspark.sql.types import *\n",
    "import pyspark.sql.functions as F\n",
    "from pyspark.sql.functions import col, udf\n",
    "from pyspark.ml import Pipeline\n",
    "\n",
    "spark = (SparkSession\n",
    "         .builder\n",
    "         .master(\"local[*]\")\n",
    "         .appName(\"Spark-Learning\")\n",
    "         .config(\"spark.sql.broadcastTimeout\", \"36000\")\n",
    "         .getOrCreate())\n",
    "spark\n",
    "\n",
    "#spark session --> spark context --> sql context\n",
    "sc = spark.sparkContext\n",
    "sqlContext = SQLContext(spark.sparkContext)\n",
    "sqlContext.sql(\"SET spark.sql.autoBroadcastJoinThreshold = -1\")"
   ]
  },
  {
   "cell_type": "code",
   "execution_count": 2,
   "metadata": {},
   "outputs": [
    {
     "name": "stdout",
     "output_type": "stream",
     "text": [
      "+----------+-----+\n",
      "|      date|sales|\n",
      "+----------+-----+\n",
      "|2018-12-22|   17|\n",
      "|2017-01-08|   22|\n",
      "|2015-08-25|   48|\n",
      "|2015-03-12|  150|\n",
      "+----------+-----+\n",
      "\n"
     ]
    }
   ],
   "source": [
    "from pyspark.sql import Row\n",
    "\n",
    "date_col = [\"2018-12-22\", \"2017-01-08\", \"2015-08-25\", \"2015-03-12\"]\n",
    "sales = [17, 22, 48, 150]\n",
    "l = [(x,y) for x,y in zip(date_col, sales)]\n",
    "rdd = sc.parallelize(l)\n",
    "sales = rdd.map(lambda x: Row(date=x[0], sales=int(x[1])))\n",
    "df = sqlContext.createDataFrame(sales)\n",
    "df.show()"
   ]
  },
  {
   "cell_type": "code",
   "execution_count": 7,
   "metadata": {},
   "outputs": [],
   "source": [
    "from pyspark.ml.pipeline import Transformer\n",
    "\n",
    "class DayExtractor(Transformer):\n",
    "    def __init__(self, inputCol, outputCol='dayofmonth'):\n",
    "        self.inputCol = inputCol\n",
    "        self.outputCol = outputCol\n",
    "    def this():\n",
    "            this(Identifiable.randomUID(\"dayextractor\"))\n",
    "    def copy(extra):\n",
    "            defaultCopy(extra)\n",
    "    def check_input_type(self, schema):\n",
    "            field = schema[self.inputCol]\n",
    "            if (field.dataType != DateType()):\n",
    "                raise Exception('DayExtractor input type %s did not match input type DateType' % field.dataType)\n",
    "    def _transform(self, df):\n",
    "            self.check_input_type(df.schema)\n",
    "            return df.withColumn(self.outputCol, F.dayofmonth(df[self.inputCol]))\n",
    "    \n",
    "class MonthQuarterExtractor(Transformer):\n",
    "    def __init__(self, inputCol='day', outputCol='monthquarter'):\n",
    "        self.inputCol = inputCol\n",
    "        self.outputCol = outputCol\n",
    "        \n",
    "    def this():\n",
    "        this(Identifiable.randomUID(\"monthquarterextractor\"))\n",
    "    \n",
    "    def copy(extra):\n",
    "        defaultCopy(extra)\n",
    "    \n",
    "    def check_input_type(self, schema):\n",
    "        field = schema[self.inputCol]\n",
    "        if (field.dataType != IntegerType()):\n",
    "              raise Exception('monthQuarterExtractor input type %s did not match input type IntegerType' % field.dataType)\n",
    "                \n",
    "    def _transform(self, df):\n",
    "        self.check_input_type(df.schema)\n",
    "        return df.withColumn(self.outputCol, F.when((df[self.inputCol] <= 8), 0)\n",
    "                               .otherwise(F.when((df[self.inputCol] <= 16), 1)\n",
    "                                .otherwise(F.when((df[self.inputCol] <= 24), 2)\n",
    "                                 .otherwise(3))))\n",
    "#============== year ================\n",
    "class YearExtractor(Transformer):\n",
    "    def __init__(self, inputCol, outputCol='year'):\n",
    "        self.inputCol = inputCol\n",
    "        self.outputCol = outputCol\n",
    "        \n",
    "    def this():\n",
    "        this(Identifiable.randomUID(\"yearextractor\"))\n",
    "        \n",
    "    def copy(extra):\n",
    "            defaultCopy(extra)\n",
    "    def check_input_type(self, schema):\n",
    "            field = schema[self.inputCol]\n",
    "            if (field.dataType != DateType()):\n",
    "                    raise Exception('YearExtractor input type %s did not match input type DateType' % field.dataType)\n",
    "    def _transform(self, df):\n",
    "            self.check_input_type(df.schema)\n",
    "            return df.withColumn(self.outputCol, F.year(df[self.inputCol]))"
   ]
  },
  {
   "cell_type": "code",
   "execution_count": 9,
   "metadata": {},
   "outputs": [
    {
     "name": "stdout",
     "output_type": "stream",
     "text": [
      "+----------+-----+----------+----+------------+\n",
      "|      date|sales|dayofmonth|year|monthquarter|\n",
      "+----------+-----+----------+----+------------+\n",
      "|2018-12-22|   17|        22|2018|           2|\n",
      "|2017-01-08|   22|         8|2017|           0|\n",
      "|2015-08-25|   48|        25|2015|           3|\n",
      "|2015-03-12|  150|        12|2015|           1|\n",
      "+----------+-----+----------+----+------------+\n",
      "\n"
     ]
    }
   ],
   "source": [
    "from pyspark.ml import Pipeline\n",
    "df = df.withColumn('date', F.col('date').cast(DateType()))\n",
    "dex = DayExtractor(inputCol='date')\n",
    "yex = YearExtractor(inputCol='date')\n",
    "mqex = MonthQuarterExtractor(inputCol = \"dayofmonth\")\n",
    "FeaturesPipeline =  Pipeline(stages=[dex, yex, mqex])\n",
    "Featpip = FeaturesPipeline.fit(df)\n",
    "df= Featpip.transform(df)\n",
    "df.show()"
   ]
  },
  {
   "cell_type": "code",
   "execution_count": null,
   "metadata": {},
   "outputs": [],
   "source": []
  }
 ],
 "metadata": {
  "kernelspec": {
   "display_name": "Python 3",
   "language": "python",
   "name": "python3"
  },
  "language_info": {
   "codemirror_mode": {
    "name": "ipython",
    "version": 3
   },
   "file_extension": ".py",
   "mimetype": "text/x-python",
   "name": "python",
   "nbconvert_exporter": "python",
   "pygments_lexer": "ipython3",
   "version": "3.6.8"
  },
  "toc": {
   "base_numbering": 1,
   "nav_menu": {},
   "number_sections": true,
   "sideBar": true,
   "skip_h1_title": false,
   "title_cell": "Table of Contents",
   "title_sidebar": "Contents",
   "toc_cell": false,
   "toc_position": {},
   "toc_section_display": true,
   "toc_window_display": false
  },
  "varInspector": {
   "cols": {
    "lenName": 16,
    "lenType": 16,
    "lenVar": 40
   },
   "kernels_config": {
    "python": {
     "delete_cmd_postfix": "",
     "delete_cmd_prefix": "del ",
     "library": "var_list.py",
     "varRefreshCmd": "print(var_dic_list())"
    },
    "r": {
     "delete_cmd_postfix": ") ",
     "delete_cmd_prefix": "rm(",
     "library": "var_list.r",
     "varRefreshCmd": "cat(var_dic_list()) "
    }
   },
   "types_to_exclude": [
    "module",
    "function",
    "builtin_function_or_method",
    "instance",
    "_Feature"
   ],
   "window_display": false
  }
 },
 "nbformat": 4,
 "nbformat_minor": 2
}
